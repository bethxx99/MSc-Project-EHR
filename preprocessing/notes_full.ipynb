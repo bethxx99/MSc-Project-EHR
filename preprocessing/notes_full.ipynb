{
 "cells": [
  {
   "cell_type": "code",
   "execution_count": 1,
   "metadata": {},
   "outputs": [],
   "source": [
    "import pandas as pd\n",
    "import psycopg2\n",
    "import csv\n",
    "import sys\n",
    "import datasets\n",
    "import get_notes\n",
    "from concat_and_split_full import concat_data\n",
    "from collections import Counter, defaultdict\n",
    "import operator\n",
    "import numpy as np\n",
    "import seaborn as sns\n",
    "from tqdm import tqdm\n",
    "import matplotlib.pyplot as plt"
   ]
  },
  {
   "cell_type": "code",
   "execution_count": 3,
   "metadata": {},
   "outputs": [
    {
     "data": {
      "text/plain": [
       "58361"
      ]
     },
     "execution_count": 3,
     "metadata": {},
     "output_type": "execute_result"
    }
   ],
   "source": [
    "df = pd.read_csv('./full_events.csv')\n",
    "len(df['HADM_ID'].unique())"
   ]
  },
  {
   "cell_type": "code",
   "execution_count": 4,
   "metadata": {},
   "outputs": [],
   "source": [
    "df = df.drop(df[(df['HADM_ID'].isnull()) | (df['TEXT'].isnull())].index)"
   ]
  },
  {
   "cell_type": "code",
   "execution_count": 5,
   "metadata": {},
   "outputs": [],
   "source": [
    "df = df.sort_values(['SUBJECT_ID', 'HADM_ID', 'CHARTDATE', 'CHARTTIME'])\n",
    "dflabels = pd.read_csv('./DiagICD.csv')\n",
    "dflabels = dflabels.sort_values(['SUBJECT_ID', 'HADM_ID'])"
   ]
  },
  {
   "cell_type": "code",
   "execution_count": 6,
   "metadata": {},
   "outputs": [
    {
     "data": {
      "text/plain": [
       "(58361, 58976)"
      ]
     },
     "execution_count": 6,
     "metadata": {},
     "output_type": "execute_result"
    }
   ],
   "source": [
    "len(df['HADM_ID'].unique()), len(dflabels['HADM_ID'].unique())"
   ]
  },
  {
   "cell_type": "code",
   "execution_count": 7,
   "metadata": {},
   "outputs": [],
   "source": [
    "\n",
    "hadm_ids = set(df['HADM_ID'])\n",
    "with open('./DiagICD.csv', 'r') as lf:\n",
    "    with open('./DiagICD_filtered.csv', 'w') as of:\n",
    "        w = csv.writer(of)\n",
    "        w.writerow(['SUBJECT_ID', 'HADM_ID', 'ICD9_CODE', 'ADMITTIME', 'DISCHTIME'])\n",
    "        r = csv.reader(lf)\n",
    "        #header\n",
    "        next(r)\n",
    "        for i,row in enumerate(r):\n",
    "            hadm_id = int(row[2])\n",
    "            #print(hadm_id)\n",
    "            #break\n",
    "            if hadm_id in hadm_ids:\n",
    "                w.writerow(row[1:3] + [row[-1], '', ''])"
   ]
  },
  {
   "cell_type": "code",
   "execution_count": 8,
   "metadata": {},
   "outputs": [],
   "source": [
    "dflabels = pd.read_csv('./DiagICD_filtered.csv', index_col=None)"
   ]
  },
  {
   "cell_type": "code",
   "execution_count": 9,
   "metadata": {},
   "outputs": [
    {
     "data": {
      "text/plain": [
       "(58361, 58361)"
      ]
     },
     "execution_count": 9,
     "metadata": {},
     "output_type": "execute_result"
    }
   ],
   "source": [
    "len(dflabels['HADM_ID'].unique()), len(df['HADM_ID'].unique())"
   ]
  },
  {
   "cell_type": "code",
   "execution_count": 10,
   "metadata": {},
   "outputs": [],
   "source": [
    "dflabels = dflabels.sort_values(['SUBJECT_ID', 'HADM_ID'])\n",
    "dflabels.to_csv('./DiagICD_filtered.csv', index=False)"
   ]
  },
  {
   "cell_type": "code",
   "execution_count": null,
   "metadata": {},
   "outputs": [],
   "source": [
    "sorted_file = './full_events.csv'\n",
    "df.to_csv(sorted_file, index=False)"
   ]
  },
  {
   "cell_type": "code",
   "execution_count": null,
   "metadata": {
    "scrolled": true
   },
   "outputs": [],
   "source": [
    "labeled = concat_data('./DiagICD_filtered.csv', sorted_file)"
   ]
  },
  {
   "cell_type": "code",
   "execution_count": 2,
   "metadata": {},
   "outputs": [],
   "source": [
    "labeled = pd.read_csv('./notes_labeled_full.csv', index_col=None)"
   ]
  },
  {
   "cell_type": "code",
   "execution_count": 3,
   "metadata": {},
   "outputs": [
    {
     "data": {
      "text/html": [
       "<div>\n",
       "<style scoped>\n",
       "    .dataframe tbody tr th:only-of-type {\n",
       "        vertical-align: middle;\n",
       "    }\n",
       "\n",
       "    .dataframe tbody tr th {\n",
       "        vertical-align: top;\n",
       "    }\n",
       "\n",
       "    .dataframe thead th {\n",
       "        text-align: right;\n",
       "    }\n",
       "</style>\n",
       "<table border=\"1\" class=\"dataframe\">\n",
       "  <thead>\n",
       "    <tr style=\"text-align: right;\">\n",
       "      <th></th>\n",
       "      <th>SUBJECT_ID</th>\n",
       "      <th>HADM_ID</th>\n",
       "      <th>TEXT</th>\n",
       "      <th>LABELS</th>\n",
       "    </tr>\n",
       "  </thead>\n",
       "  <tbody>\n",
       "    <tr>\n",
       "      <th>0</th>\n",
       "      <td>2</td>\n",
       "      <td>163353</td>\n",
       "      <td>note nursing other neonatology attending triag...</td>\n",
       "      <td>V30.01;V05.3;V29.0</td>\n",
       "    </tr>\n",
       "    <tr>\n",
       "      <th>1</th>\n",
       "      <td>2</td>\n",
       "      <td>163353</td>\n",
       "      <td>note nursing other nursing transfer note pt ad...</td>\n",
       "      <td>V30.01;V05.3;V29.0</td>\n",
       "    </tr>\n",
       "    <tr>\n",
       "      <th>2</th>\n",
       "      <td>3</td>\n",
       "      <td>145834</td>\n",
       "      <td>note radiology pm ct abdomen w o contrast ct p...</td>\n",
       "      <td>038.9;785.59;584.9;427.5;410.71;428.0;682.6;42...</td>\n",
       "    </tr>\n",
       "    <tr>\n",
       "      <th>3</th>\n",
       "      <td>3</td>\n",
       "      <td>145834</td>\n",
       "      <td>note radiology pm chest portable ap clip clip ...</td>\n",
       "      <td>038.9;785.59;584.9;427.5;410.71;428.0;682.6;42...</td>\n",
       "    </tr>\n",
       "    <tr>\n",
       "      <th>4</th>\n",
       "      <td>3</td>\n",
       "      <td>145834</td>\n",
       "      <td>note radiology pm chest portable ap clip clip ...</td>\n",
       "      <td>038.9;785.59;584.9;427.5;410.71;428.0;682.6;42...</td>\n",
       "    </tr>\n",
       "    <tr>\n",
       "      <th>...</th>\n",
       "      <td>...</td>\n",
       "      <td>...</td>\n",
       "      <td>...</td>\n",
       "      <td>...</td>\n",
       "    </tr>\n",
       "    <tr>\n",
       "      <th>1851339</th>\n",
       "      <td>99999</td>\n",
       "      <td>113369</td>\n",
       "      <td>note physician sicu hpi f pod1 s p plif with r...</td>\n",
       "      <td>756.12;786.1;401.9;250.00;413.9</td>\n",
       "    </tr>\n",
       "    <tr>\n",
       "      <th>1851340</th>\n",
       "      <td>99999</td>\n",
       "      <td>113369</td>\n",
       "      <td>note physician sicu hpi f pod1 s p plif with r...</td>\n",
       "      <td>756.12;786.1;401.9;250.00;413.9</td>\n",
       "    </tr>\n",
       "    <tr>\n",
       "      <th>1851341</th>\n",
       "      <td>99999</td>\n",
       "      <td>113369</td>\n",
       "      <td>note nursing yo f with history of neurogenic c...</td>\n",
       "      <td>756.12;786.1;401.9;250.00;413.9</td>\n",
       "    </tr>\n",
       "    <tr>\n",
       "      <th>1851342</th>\n",
       "      <td>99999</td>\n",
       "      <td>113369</td>\n",
       "      <td>note nursing yo f with history of neurogenic c...</td>\n",
       "      <td>756.12;786.1;401.9;250.00;413.9</td>\n",
       "    </tr>\n",
       "    <tr>\n",
       "      <th>1851343</th>\n",
       "      <td>99999</td>\n",
       "      <td>113369</td>\n",
       "      <td>note discharge summary admission date discharg...</td>\n",
       "      <td>756.12;786.1;401.9;250.00;413.9</td>\n",
       "    </tr>\n",
       "  </tbody>\n",
       "</table>\n",
       "<p>1851344 rows × 4 columns</p>\n",
       "</div>"
      ],
      "text/plain": [
       "         SUBJECT_ID  HADM_ID  \\\n",
       "0                 2   163353   \n",
       "1                 2   163353   \n",
       "2                 3   145834   \n",
       "3                 3   145834   \n",
       "4                 3   145834   \n",
       "...             ...      ...   \n",
       "1851339       99999   113369   \n",
       "1851340       99999   113369   \n",
       "1851341       99999   113369   \n",
       "1851342       99999   113369   \n",
       "1851343       99999   113369   \n",
       "\n",
       "                                                      TEXT  \\\n",
       "0        note nursing other neonatology attending triag...   \n",
       "1        note nursing other nursing transfer note pt ad...   \n",
       "2        note radiology pm ct abdomen w o contrast ct p...   \n",
       "3        note radiology pm chest portable ap clip clip ...   \n",
       "4        note radiology pm chest portable ap clip clip ...   \n",
       "...                                                    ...   \n",
       "1851339  note physician sicu hpi f pod1 s p plif with r...   \n",
       "1851340  note physician sicu hpi f pod1 s p plif with r...   \n",
       "1851341  note nursing yo f with history of neurogenic c...   \n",
       "1851342  note nursing yo f with history of neurogenic c...   \n",
       "1851343  note discharge summary admission date discharg...   \n",
       "\n",
       "                                                    LABELS  \n",
       "0                                       V30.01;V05.3;V29.0  \n",
       "1                                       V30.01;V05.3;V29.0  \n",
       "2        038.9;785.59;584.9;427.5;410.71;428.0;682.6;42...  \n",
       "3        038.9;785.59;584.9;427.5;410.71;428.0;682.6;42...  \n",
       "4        038.9;785.59;584.9;427.5;410.71;428.0;682.6;42...  \n",
       "...                                                    ...  \n",
       "1851339                    756.12;786.1;401.9;250.00;413.9  \n",
       "1851340                    756.12;786.1;401.9;250.00;413.9  \n",
       "1851341                    756.12;786.1;401.9;250.00;413.9  \n",
       "1851342                    756.12;786.1;401.9;250.00;413.9  \n",
       "1851343                    756.12;786.1;401.9;250.00;413.9  \n",
       "\n",
       "[1851344 rows x 4 columns]"
      ]
     },
     "execution_count": 3,
     "metadata": {},
     "output_type": "execute_result"
    }
   ],
   "source": [
    "labeled"
   ]
  },
  {
   "cell_type": "code",
   "execution_count": 4,
   "metadata": {},
   "outputs": [],
   "source": [
    "labeled_300 = labeled.drop(labeled[labeled.TEXT.str.len()<300].index)"
   ]
  },
  {
   "cell_type": "code",
   "execution_count": 5,
   "metadata": {},
   "outputs": [
    {
     "data": {
      "text/html": [
       "<div>\n",
       "<style scoped>\n",
       "    .dataframe tbody tr th:only-of-type {\n",
       "        vertical-align: middle;\n",
       "    }\n",
       "\n",
       "    .dataframe tbody tr th {\n",
       "        vertical-align: top;\n",
       "    }\n",
       "\n",
       "    .dataframe thead th {\n",
       "        text-align: right;\n",
       "    }\n",
       "</style>\n",
       "<table border=\"1\" class=\"dataframe\">\n",
       "  <thead>\n",
       "    <tr style=\"text-align: right;\">\n",
       "      <th></th>\n",
       "      <th>SUBJECT_ID</th>\n",
       "      <th>HADM_ID</th>\n",
       "      <th>TEXT</th>\n",
       "      <th>LABELS</th>\n",
       "    </tr>\n",
       "  </thead>\n",
       "  <tbody>\n",
       "    <tr>\n",
       "      <th>0</th>\n",
       "      <td>2</td>\n",
       "      <td>163353</td>\n",
       "      <td>note nursing other neonatology attending triag...</td>\n",
       "      <td>V30.01;V05.3;V29.0</td>\n",
       "    </tr>\n",
       "    <tr>\n",
       "      <th>1</th>\n",
       "      <td>2</td>\n",
       "      <td>163353</td>\n",
       "      <td>note nursing other nursing transfer note pt ad...</td>\n",
       "      <td>V30.01;V05.3;V29.0</td>\n",
       "    </tr>\n",
       "    <tr>\n",
       "      <th>2</th>\n",
       "      <td>3</td>\n",
       "      <td>145834</td>\n",
       "      <td>note radiology pm ct abdomen w o contrast ct p...</td>\n",
       "      <td>038.9;785.59;584.9;427.5;410.71;428.0;682.6;42...</td>\n",
       "    </tr>\n",
       "    <tr>\n",
       "      <th>3</th>\n",
       "      <td>3</td>\n",
       "      <td>145834</td>\n",
       "      <td>note radiology pm chest portable ap clip clip ...</td>\n",
       "      <td>038.9;785.59;584.9;427.5;410.71;428.0;682.6;42...</td>\n",
       "    </tr>\n",
       "    <tr>\n",
       "      <th>4</th>\n",
       "      <td>3</td>\n",
       "      <td>145834</td>\n",
       "      <td>note radiology pm chest portable ap clip clip ...</td>\n",
       "      <td>038.9;785.59;584.9;427.5;410.71;428.0;682.6;42...</td>\n",
       "    </tr>\n",
       "    <tr>\n",
       "      <th>...</th>\n",
       "      <td>...</td>\n",
       "      <td>...</td>\n",
       "      <td>...</td>\n",
       "      <td>...</td>\n",
       "    </tr>\n",
       "    <tr>\n",
       "      <th>1851339</th>\n",
       "      <td>99999</td>\n",
       "      <td>113369</td>\n",
       "      <td>note physician sicu hpi f pod1 s p plif with r...</td>\n",
       "      <td>756.12;786.1;401.9;250.00;413.9</td>\n",
       "    </tr>\n",
       "    <tr>\n",
       "      <th>1851340</th>\n",
       "      <td>99999</td>\n",
       "      <td>113369</td>\n",
       "      <td>note physician sicu hpi f pod1 s p plif with r...</td>\n",
       "      <td>756.12;786.1;401.9;250.00;413.9</td>\n",
       "    </tr>\n",
       "    <tr>\n",
       "      <th>1851341</th>\n",
       "      <td>99999</td>\n",
       "      <td>113369</td>\n",
       "      <td>note nursing yo f with history of neurogenic c...</td>\n",
       "      <td>756.12;786.1;401.9;250.00;413.9</td>\n",
       "    </tr>\n",
       "    <tr>\n",
       "      <th>1851342</th>\n",
       "      <td>99999</td>\n",
       "      <td>113369</td>\n",
       "      <td>note nursing yo f with history of neurogenic c...</td>\n",
       "      <td>756.12;786.1;401.9;250.00;413.9</td>\n",
       "    </tr>\n",
       "    <tr>\n",
       "      <th>1851343</th>\n",
       "      <td>99999</td>\n",
       "      <td>113369</td>\n",
       "      <td>note discharge summary admission date discharg...</td>\n",
       "      <td>756.12;786.1;401.9;250.00;413.9</td>\n",
       "    </tr>\n",
       "  </tbody>\n",
       "</table>\n",
       "<p>1499545 rows × 4 columns</p>\n",
       "</div>"
      ],
      "text/plain": [
       "         SUBJECT_ID  HADM_ID  \\\n",
       "0                 2   163353   \n",
       "1                 2   163353   \n",
       "2                 3   145834   \n",
       "3                 3   145834   \n",
       "4                 3   145834   \n",
       "...             ...      ...   \n",
       "1851339       99999   113369   \n",
       "1851340       99999   113369   \n",
       "1851341       99999   113369   \n",
       "1851342       99999   113369   \n",
       "1851343       99999   113369   \n",
       "\n",
       "                                                      TEXT  \\\n",
       "0        note nursing other neonatology attending triag...   \n",
       "1        note nursing other nursing transfer note pt ad...   \n",
       "2        note radiology pm ct abdomen w o contrast ct p...   \n",
       "3        note radiology pm chest portable ap clip clip ...   \n",
       "4        note radiology pm chest portable ap clip clip ...   \n",
       "...                                                    ...   \n",
       "1851339  note physician sicu hpi f pod1 s p plif with r...   \n",
       "1851340  note physician sicu hpi f pod1 s p plif with r...   \n",
       "1851341  note nursing yo f with history of neurogenic c...   \n",
       "1851342  note nursing yo f with history of neurogenic c...   \n",
       "1851343  note discharge summary admission date discharg...   \n",
       "\n",
       "                                                    LABELS  \n",
       "0                                       V30.01;V05.3;V29.0  \n",
       "1                                       V30.01;V05.3;V29.0  \n",
       "2        038.9;785.59;584.9;427.5;410.71;428.0;682.6;42...  \n",
       "3        038.9;785.59;584.9;427.5;410.71;428.0;682.6;42...  \n",
       "4        038.9;785.59;584.9;427.5;410.71;428.0;682.6;42...  \n",
       "...                                                    ...  \n",
       "1851339                    756.12;786.1;401.9;250.00;413.9  \n",
       "1851340                    756.12;786.1;401.9;250.00;413.9  \n",
       "1851341                    756.12;786.1;401.9;250.00;413.9  \n",
       "1851342                    756.12;786.1;401.9;250.00;413.9  \n",
       "1851343                    756.12;786.1;401.9;250.00;413.9  \n",
       "\n",
       "[1499545 rows x 4 columns]"
      ]
     },
     "execution_count": 5,
     "metadata": {},
     "output_type": "execute_result"
    }
   ],
   "source": [
    "labeled_300"
   ]
  },
  {
   "cell_type": "code",
   "execution_count": 13,
   "metadata": {},
   "outputs": [],
   "source": [
    "Y=50\n",
    "codes_50 = ['401.9',\n",
    " '428.0',\n",
    " '427.31',\n",
    " '414.01',\n",
    " '584.9',\n",
    " '250.00',\n",
    " '272.4',\n",
    " '518.81',\n",
    " '599.0',\n",
    " '530.81',\n",
    " '272.0',\n",
    " 'V05.3',\n",
    " 'V29.0',\n",
    " '285.9',\n",
    " '244.9',\n",
    " '486',\n",
    " '285.1',\n",
    " '276.2',\n",
    " '496',\n",
    " '995.92',\n",
    " 'V58.61',\n",
    " '038.9',\n",
    " '507.0',\n",
    " 'V30.00',\n",
    " '585.9',\n",
    " '311',\n",
    " '403.90',\n",
    " '305.1',\n",
    " '412',\n",
    " '410.71',\n",
    " '287.5',\n",
    " 'V45.81',\n",
    " '276.1',\n",
    " '424.0',\n",
    " 'V15.82',\n",
    " '511.9',\n",
    " 'V45.82',\n",
    " 'V30.01',\n",
    " '403.91',\n",
    " '785.52',\n",
    " '424.1',\n",
    " 'V58.67',\n",
    " '427.89',\n",
    " '327.23',\n",
    " '997.1',\n",
    " '584.5',\n",
    " '276.0',\n",
    " '774.2',\n",
    " '493.90',\n",
    " '518.0']"
   ]
  },
  {
   "cell_type": "code",
   "execution_count": 14,
   "metadata": {},
   "outputs": [
    {
     "name": "stdout",
     "output_type": "stream",
     "text": [
      "train\n",
      "dev\n",
      "test\n"
     ]
    }
   ],
   "source": [
    "csv.field_size_limit(sys.maxsize)\n",
    "for splt in ['train', 'dev', 'test']:\n",
    "    print(splt)\n",
    "    hadm_ids = set()\n",
    "    with open('./hadm_ids/%s_50_hadm_ids.csv' %splt, 'r') as f:\n",
    "        for line in f:\n",
    "            hadm_ids.add(line.rstrip())\n",
    "    with open('./notes_labeled_full.csv', 'r') as f:\n",
    "        with open('./%s_%s.csv' % (splt, str(Y)), 'w') as of:\n",
    "            r = csv.reader(f)\n",
    "            w = csv.writer(of)\n",
    "            #header\n",
    "            w.writerow(next(r))\n",
    "            i = 0\n",
    "            for row in r:\n",
    "                hadm_id = row[1]\n",
    "                if hadm_id not in hadm_ids:\n",
    "                    continue\n",
    "                codes = set(str(row[3]).split(';'))\n",
    "                filtered_codes = codes.intersection(set(codes_50))\n",
    "                if len(filtered_codes) > 0:\n",
    "                    w.writerow(row[:3] + [';'.join(filtered_codes)])\n",
    "                    i += 1"
   ]
  },
  {
   "cell_type": "code",
   "execution_count": 15,
   "metadata": {},
   "outputs": [],
   "source": [
    "for splt in ['train', 'dev', 'test']:\n",
    "    filename = './%s_%s.csv' % (splt, str(Y))\n",
    "    df = pd.read_csv(filename)\n",
    "    df['length'] = df.apply(lambda row: len(str(row['TEXT']).split()), axis=1)\n",
    "    df = df.sort_values(['length'])\n",
    "    df.to_csv('./%s_%s.csv' % (splt, str(Y)), index=False)"
   ]
  },
  {
   "cell_type": "code",
   "execution_count": 16,
   "metadata": {},
   "outputs": [],
   "source": [
    "train_50 = pd.read_csv('./train_50.csv', index_col=None)"
   ]
  },
  {
   "cell_type": "code",
   "execution_count": 17,
   "metadata": {},
   "outputs": [
    {
     "data": {
      "text/html": [
       "<div>\n",
       "<style scoped>\n",
       "    .dataframe tbody tr th:only-of-type {\n",
       "        vertical-align: middle;\n",
       "    }\n",
       "\n",
       "    .dataframe tbody tr th {\n",
       "        vertical-align: top;\n",
       "    }\n",
       "\n",
       "    .dataframe thead th {\n",
       "        text-align: right;\n",
       "    }\n",
       "</style>\n",
       "<table border=\"1\" class=\"dataframe\">\n",
       "  <thead>\n",
       "    <tr style=\"text-align: right;\">\n",
       "      <th></th>\n",
       "      <th>SUBJECT_ID</th>\n",
       "      <th>HADM_ID</th>\n",
       "      <th>TEXT</th>\n",
       "      <th>LABELS</th>\n",
       "      <th>length</th>\n",
       "    </tr>\n",
       "  </thead>\n",
       "  <tbody>\n",
       "    <tr>\n",
       "      <th>0</th>\n",
       "      <td>67906</td>\n",
       "      <td>122154</td>\n",
       "      <td>title</td>\n",
       "      <td>427.31;038.9;584.5;995.92;285.1;518.81;287.5;2...</td>\n",
       "      <td>1</td>\n",
       "    </tr>\n",
       "    <tr>\n",
       "      <th>1</th>\n",
       "      <td>22010</td>\n",
       "      <td>146210</td>\n",
       "      <td>title</td>\n",
       "      <td>428.0;285.1;V58.67;424.0</td>\n",
       "      <td>1</td>\n",
       "    </tr>\n",
       "    <tr>\n",
       "      <th>2</th>\n",
       "      <td>72671</td>\n",
       "      <td>188200</td>\n",
       "      <td>title</td>\n",
       "      <td>427.31;276.2;311;486;518.81</td>\n",
       "      <td>1</td>\n",
       "    </tr>\n",
       "    <tr>\n",
       "      <th>3</th>\n",
       "      <td>78481</td>\n",
       "      <td>143054</td>\n",
       "      <td>events</td>\n",
       "      <td>038.9;584.5;285.1;518.81;424.0;401.9</td>\n",
       "      <td>1</td>\n",
       "    </tr>\n",
       "    <tr>\n",
       "      <th>4</th>\n",
       "      <td>31209</td>\n",
       "      <td>106125</td>\n",
       "      <td>title</td>\n",
       "      <td>276.2;412;414.01;327.23;V58.61;272.0</td>\n",
       "      <td>1</td>\n",
       "    </tr>\n",
       "    <tr>\n",
       "      <th>...</th>\n",
       "      <td>...</td>\n",
       "      <td>...</td>\n",
       "      <td>...</td>\n",
       "      <td>...</td>\n",
       "      <td>...</td>\n",
       "    </tr>\n",
       "    <tr>\n",
       "      <th>276541</th>\n",
       "      <td>57321</td>\n",
       "      <td>171040</td>\n",
       "      <td>admission date discharge date date of birth se...</td>\n",
       "      <td>250.00;427.31;276.2;427.89;428.0;584.5;518.81;...</td>\n",
       "      <td>6081</td>\n",
       "    </tr>\n",
       "    <tr>\n",
       "      <th>276542</th>\n",
       "      <td>80342</td>\n",
       "      <td>160825</td>\n",
       "      <td>admission date discharge date date of birth se...</td>\n",
       "      <td>276.2;584.9;518.81;038.9</td>\n",
       "      <td>6120</td>\n",
       "    </tr>\n",
       "    <tr>\n",
       "      <th>276543</th>\n",
       "      <td>65176</td>\n",
       "      <td>173812</td>\n",
       "      <td>admission date discharge date date of birth se...</td>\n",
       "      <td>038.9;584.5;995.92;285.1;518.81;287.5;511.9</td>\n",
       "      <td>6487</td>\n",
       "    </tr>\n",
       "    <tr>\n",
       "      <th>276544</th>\n",
       "      <td>51821</td>\n",
       "      <td>197028</td>\n",
       "      <td>admission date discharge date date of birth se...</td>\n",
       "      <td>486;584.5;518.81;287.5;276.0;493.90;511.9</td>\n",
       "      <td>6787</td>\n",
       "    </tr>\n",
       "    <tr>\n",
       "      <th>276545</th>\n",
       "      <td>66807</td>\n",
       "      <td>166588</td>\n",
       "      <td>admission date discharge date date of birth se...</td>\n",
       "      <td>599.0;427.31;585.9;428.0;272.4;327.23;403.90;4...</td>\n",
       "      <td>7280</td>\n",
       "    </tr>\n",
       "  </tbody>\n",
       "</table>\n",
       "<p>276546 rows × 5 columns</p>\n",
       "</div>"
      ],
      "text/plain": [
       "        SUBJECT_ID  HADM_ID  \\\n",
       "0            67906   122154   \n",
       "1            22010   146210   \n",
       "2            72671   188200   \n",
       "3            78481   143054   \n",
       "4            31209   106125   \n",
       "...            ...      ...   \n",
       "276541       57321   171040   \n",
       "276542       80342   160825   \n",
       "276543       65176   173812   \n",
       "276544       51821   197028   \n",
       "276545       66807   166588   \n",
       "\n",
       "                                                     TEXT  \\\n",
       "0                                                   title   \n",
       "1                                                   title   \n",
       "2                                                   title   \n",
       "3                                                  events   \n",
       "4                                                   title   \n",
       "...                                                   ...   \n",
       "276541  admission date discharge date date of birth se...   \n",
       "276542  admission date discharge date date of birth se...   \n",
       "276543  admission date discharge date date of birth se...   \n",
       "276544  admission date discharge date date of birth se...   \n",
       "276545  admission date discharge date date of birth se...   \n",
       "\n",
       "                                                   LABELS  length  \n",
       "0       427.31;038.9;584.5;995.92;285.1;518.81;287.5;2...       1  \n",
       "1                                428.0;285.1;V58.67;424.0       1  \n",
       "2                             427.31;276.2;311;486;518.81       1  \n",
       "3                    038.9;584.5;285.1;518.81;424.0;401.9       1  \n",
       "4                    276.2;412;414.01;327.23;V58.61;272.0       1  \n",
       "...                                                   ...     ...  \n",
       "276541  250.00;427.31;276.2;427.89;428.0;584.5;518.81;...    6081  \n",
       "276542                           276.2;584.9;518.81;038.9    6120  \n",
       "276543        038.9;584.5;995.92;285.1;518.81;287.5;511.9    6487  \n",
       "276544          486;584.5;518.81;287.5;276.0;493.90;511.9    6787  \n",
       "276545  599.0;427.31;585.9;428.0;272.4;327.23;403.90;4...    7280  \n",
       "\n",
       "[276546 rows x 5 columns]"
      ]
     },
     "execution_count": 17,
     "metadata": {},
     "output_type": "execute_result"
    }
   ],
   "source": [
    "train_50"
   ]
  },
  {
   "cell_type": "code",
   "execution_count": null,
   "metadata": {},
   "outputs": [],
   "source": [
    "train_50 = pd.read_csv('./train_50.csv', index_col=None)\n",
    "dev_50 = pd.read_csv('./dev_50.csv', index_col=None)\n",
    "test_50 = pd.read_csv('./test_50.csv', index_col=None)"
   ]
  },
  {
   "cell_type": "code",
   "execution_count": null,
   "metadata": {},
   "outputs": [],
   "source": [
    "full_df = pd.concat([train_50, dev_50, test_50], ignore_index=True)"
   ]
  },
  {
   "cell_type": "code",
   "execution_count": null,
   "metadata": {},
   "outputs": [],
   "source": [
    "# split labels by \";\", then convert to list\n",
    "def split_lab (x):\n",
    "    #print(x)\n",
    "    return x.split(\";\")\n",
    "\n",
    "full_df['LABELS'] = full_df['LABELS'].apply(split_lab)\n",
    "#full_df['TEXT'] = full_df['TEXT'].apply(split_lab)\n",
    "\n",
    "full_df.head()"
   ]
  },
  {
   "cell_type": "code",
   "execution_count": null,
   "metadata": {},
   "outputs": [],
   "source": [
    "from sklearn.preprocessing import MultiLabelBinarizer\n",
    "\n",
    "mlb = MultiLabelBinarizer(sparse_output=True)"
   ]
  },
  {
   "cell_type": "code",
   "execution_count": null,
   "metadata": {},
   "outputs": [],
   "source": [
    "#change label to one-hot encoding per code\n",
    "full_df = full_df.join(\n",
    "            pd.DataFrame.sparse.from_spmatrix(\n",
    "                mlb.fit_transform(full_df.pop('LABELS')),\n",
    "                columns=mlb.classes_))\n",
    "\n",
    "full_df.head()"
   ]
  },
  {
   "cell_type": "code",
   "execution_count": null,
   "metadata": {},
   "outputs": [],
   "source": [
    "icd_classes_50 = mlb.classes_\n",
    "print(icd_classes_50)"
   ]
  },
  {
   "cell_type": "code",
   "execution_count": null,
   "metadata": {},
   "outputs": [],
   "source": [
    "# Convert columns to list of one hot encoding\n",
    "icd_classes_50 = mlb.classes_\n",
    "\n",
    "full_df['labels'] = full_df[icd_classes_50].values.tolist()\n",
    "#train_df.sort_values(['length'], ascending=False, inplace=True)\n",
    "full_df.head()"
   ]
  },
  {
   "cell_type": "code",
   "execution_count": null,
   "metadata": {},
   "outputs": [],
   "source": [
    "full_df.to_csv('./notes_full_label.csv', index=False)"
   ]
  },
  {
   "cell_type": "code",
   "execution_count": null,
   "metadata": {},
   "outputs": [],
   "source": [
    "Y=50\n",
    "csv.field_size_limit(sys.maxsize)\n",
    "for splt in ['train', 'dev', 'test']:\n",
    "    print(splt)\n",
    "    hadm_ids = set()\n",
    "    with open('./hadm_ids/%s_50_hadm_ids.csv' %splt, 'r') as f:\n",
    "        for line in f:\n",
    "            hadm_ids.add(line.rstrip())\n",
    "    with open('./notes_full_label.csv', 'r') as f:\n",
    "        with open('./%s_%s.csv' % (splt, str(Y)), 'w') as of:\n",
    "            r = csv.reader(f)\n",
    "            w = csv.writer(of)\n",
    "            #header\n",
    "            w.writerow(next(r))\n",
    "            i = 0\n",
    "            for row in r:\n",
    "                hadm_id = row[1]\n",
    "                if hadm_id not in hadm_ids:\n",
    "                    continue\n",
    "\n",
    "                w.writerow(row)\n",
    "                i += 1"
   ]
  },
  {
   "cell_type": "code",
   "execution_count": null,
   "metadata": {},
   "outputs": [],
   "source": [
    "for splt in ['train', 'dev', 'test']:\n",
    "    filename = './%s_%s.csv' % (splt, str(Y))\n",
    "    df = pd.read_csv(filename)\n",
    "\n",
    "    df = df.sort_values(['length'])\n",
    "    df.to_csv('./%s_%s.csv' % (splt, str(Y)), index=False)"
   ]
  },
  {
   "cell_type": "code",
   "execution_count": null,
   "metadata": {},
   "outputs": [],
   "source": [
    "train_50 = pd.read_csv('./train_50.csv', index_col=None)\n",
    "train_50"
   ]
  },
  {
   "cell_type": "code",
   "execution_count": null,
   "metadata": {},
   "outputs": [],
   "source": [
    "sns.kdeplot(dev_50.length[dev_50['length']<200])"
   ]
  },
  {
   "cell_type": "code",
   "execution_count": null,
   "metadata": {},
   "outputs": [],
   "source": [
    "dev_50 = pd.read_csv('./dev_50.csv', index_col=None)\n",
    "dev_50"
   ]
  },
  {
   "cell_type": "code",
   "execution_count": 18,
   "metadata": {},
   "outputs": [],
   "source": [
    "Y=10\n",
    "codes_10 = ['401.9',\n",
    " '428.0',\n",
    " '427.31',\n",
    " '414.01',\n",
    " '584.9',\n",
    " '250.00',\n",
    " '272.4',\n",
    " '518.81',\n",
    " '599.0',\n",
    " '530.81']"
   ]
  },
  {
   "cell_type": "code",
   "execution_count": 19,
   "metadata": {},
   "outputs": [
    {
     "name": "stdout",
     "output_type": "stream",
     "text": [
      "train\n",
      "dev\n",
      "test\n"
     ]
    }
   ],
   "source": [
    "csv.field_size_limit(sys.maxsize)\n",
    "for splt in ['train', 'dev', 'test']:\n",
    "    print(splt)\n",
    "    hadm_ids = set()\n",
    "    with open('./hadm_ids/%s_50_hadm_ids.csv' %splt, 'r') as f:\n",
    "        for line in f:\n",
    "            hadm_ids.add(line.rstrip())\n",
    "    with open('./notes_labeled_full.csv', 'r') as f:\n",
    "        with open('./%s_%s.csv' % (splt, str(Y)), 'w') as of:\n",
    "            r = csv.reader(f)\n",
    "            w = csv.writer(of)\n",
    "            #header\n",
    "            w.writerow(next(r))\n",
    "            i = 0\n",
    "            for row in r:\n",
    "                hadm_id = row[1]\n",
    "                if hadm_id not in hadm_ids:\n",
    "                    continue\n",
    "                codes = set(str(row[3]).split(';'))\n",
    "                filtered_codes = codes.intersection(set(codes_10))\n",
    "                if len(filtered_codes) > 0:\n",
    "                    w.writerow(row[:3] + [';'.join(filtered_codes)])\n",
    "                    i += 1"
   ]
  },
  {
   "cell_type": "code",
   "execution_count": 20,
   "metadata": {},
   "outputs": [],
   "source": [
    "for splt in ['train', 'dev', 'test']:\n",
    "    filename = './%s_%s.csv' % (splt, str(Y))\n",
    "    df = pd.read_csv(filename)\n",
    "    df['length'] = df.apply(lambda row: len(str(row['TEXT']).split()), axis=1)\n",
    "    df = df.sort_values(['length'])\n",
    "    df.to_csv('./%s_%s.csv' % (splt, str(Y)), index=False)"
   ]
  },
  {
   "cell_type": "code",
   "execution_count": null,
   "metadata": {},
   "outputs": [],
   "source": [
    "train_10 = pd.read_csv('./train_10.csv', index_col=None)\n",
    "dev_10 = pd.read_csv('./dev_10.csv', index_col=None)\n",
    "test_10 = pd.read_csv('./test_10.csv', index_col=None)"
   ]
  },
  {
   "cell_type": "code",
   "execution_count": null,
   "metadata": {},
   "outputs": [],
   "source": [
    "full_df = pd.concat([train_10, dev_10, test_10], ignore_index=True)"
   ]
  },
  {
   "cell_type": "code",
   "execution_count": null,
   "metadata": {},
   "outputs": [],
   "source": [
    "train_10"
   ]
  },
  {
   "cell_type": "code",
   "execution_count": null,
   "metadata": {},
   "outputs": [],
   "source": [
    "# split labels by \";\", then convert to list\n",
    "def split_lab (x):\n",
    "    #print(x)\n",
    "    return x.split(\";\")\n",
    "\n",
    "full_df['LABELS'] = full_df['LABELS'].apply(split_lab)\n",
    "#full_df['TEXT'] = full_df['TEXT'].apply(split_lab)\n",
    "\n",
    "full_df.head()"
   ]
  },
  {
   "cell_type": "code",
   "execution_count": null,
   "metadata": {},
   "outputs": [],
   "source": [
    "from sklearn.preprocessing import MultiLabelBinarizer\n",
    "\n",
    "mlb = MultiLabelBinarizer(sparse_output=True)"
   ]
  },
  {
   "cell_type": "code",
   "execution_count": null,
   "metadata": {},
   "outputs": [],
   "source": [
    "#change label to one-hot encoding per code\n",
    "full_df = full_df.join(\n",
    "            pd.DataFrame.sparse.from_spmatrix(\n",
    "                mlb.fit_transform(full_df.pop('LABELS')),\n",
    "                columns=mlb.classes_))\n",
    "\n",
    "full_df.head()"
   ]
  },
  {
   "cell_type": "code",
   "execution_count": null,
   "metadata": {},
   "outputs": [],
   "source": [
    "# Convert columns to list of one hot encoding\n",
    "icd_classes_50 = mlb.classes_\n",
    "\n",
    "full_df['labels'] = full_df[icd_classes_50].values.tolist()\n",
    "#train_df.sort_values(['length'], ascending=False, inplace=True)\n",
    "full_df"
   ]
  },
  {
   "cell_type": "code",
   "execution_count": null,
   "metadata": {},
   "outputs": [],
   "source": [
    "full_df.to_csv('./notes_full_label_10.csv', index=False)"
   ]
  },
  {
   "cell_type": "code",
   "execution_count": null,
   "metadata": {},
   "outputs": [],
   "source": [
    "csv.field_size_limit(sys.maxsize)\n",
    "for splt in ['train', 'dev', 'test']:\n",
    "    print(splt)\n",
    "    hadm_ids = set()\n",
    "    with open('./hadm_ids/%s_50_hadm_ids.csv' %splt, 'r') as f:\n",
    "        for line in f:\n",
    "            hadm_ids.add(line.rstrip())\n",
    "    with open('./notes_full_label_10.csv', 'r') as f:\n",
    "        with open('./%s_%s.csv' % (splt, str(Y)), 'w') as of:\n",
    "            r = csv.reader(f)\n",
    "            w = csv.writer(of)\n",
    "            #header\n",
    "            w.writerow(next(r))\n",
    "            i = 0\n",
    "            for row in r:\n",
    "                hadm_id = row[1]\n",
    "                if hadm_id not in hadm_ids:\n",
    "                    continue\n",
    "\n",
    "                w.writerow(row)\n",
    "                i += 1"
   ]
  },
  {
   "cell_type": "code",
   "execution_count": null,
   "metadata": {},
   "outputs": [],
   "source": [
    "for splt in ['train', 'dev', 'test']:\n",
    "    filename = './%s_%s.csv' % (splt, str(Y))\n",
    "    df = pd.read_csv(filename)\n",
    "\n",
    "    df = df.sort_values(['length'])\n",
    "    df.to_csv('./%s_%s.csv' % (splt, str(Y)), index=False)"
   ]
  },
  {
   "cell_type": "code",
   "execution_count": null,
   "metadata": {},
   "outputs": [],
   "source": [
    "train_10 = pd.read_csv('./train_10.csv', index_col=None)\n",
    "train_10"
   ]
  },
  {
   "cell_type": "code",
   "execution_count": null,
   "metadata": {},
   "outputs": [],
   "source": []
  }
 ],
 "metadata": {
  "kernelspec": {
   "display_name": "Python 3",
   "language": "python",
   "name": "python3"
  },
  "language_info": {
   "codemirror_mode": {
    "name": "ipython",
    "version": 3
   },
   "file_extension": ".py",
   "mimetype": "text/x-python",
   "name": "python",
   "nbconvert_exporter": "python",
   "pygments_lexer": "ipython3",
   "version": "3.7.3"
  }
 },
 "nbformat": 4,
 "nbformat_minor": 2
}
